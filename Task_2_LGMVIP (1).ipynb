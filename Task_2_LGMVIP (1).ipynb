{
  "nbformat": 4,
  "nbformat_minor": 0,
  "metadata": {
    "colab": {
      "name": "Task 2 LGMVIP.ipynb",
      "provenance": [],
      "collapsed_sections": []
    },
    "kernelspec": {
      "name": "python3",
      "display_name": "Python 3"
    },
    "language_info": {
      "name": "python"
    }
  },
  "cells": [
    {
      "cell_type": "markdown",
      "source": [
        "LGM VIP: Data Science Internship\n",
        "\n",
        "1.Beginner Level Task (2.Stock Market Prediction And Forecasting Using Stacked LSTM)\n",
        "\n",
        "***NAME : Kale Dipali***\n",
        "\n",
        "Dataset : https://raw.githubusercontent.com/mwitiderrick/stockprice/master/NSE-TATAGLOBAL.csv"
      ],
      "metadata": {
        "id": "MsEAlZrxuf_f"
      }
    },
    {
      "cell_type": "code",
      "source": [
        "from google . colab import drive\n"
      ],
      "metadata": {
        "id": "pogx6jOiogLf"
      },
      "execution_count": null,
      "outputs": []
    },
    {
      "cell_type": "code",
      "source": [
        "import numpy as np\n",
        "import pandas as pd\n",
        "import matplotlib.pyplot as plt\n",
        "import tensorflow as tf\n",
        "from sklearn.preprocessing import MinMaxScaler\n",
        "from tensorflow.keras.models import Sequential\n",
        "from tensorflow.keras.layers import Dense\n",
        "from tensorflow.keras.layers import LSTM\n",
        "import math\n",
        "from sklearn.metrics import mean_squared_error\n",
        "import warnings\n",
        "warnings.filterwarnings(\"ignore\")"
      ],
      "metadata": {
        "id": "wjrHbS9Eu6I0"
      },
      "execution_count": 1,
      "outputs": []
    },
    {
      "cell_type": "markdown",
      "source": [
        "\n",
        "\n",
        "```\n",
        "# This is formatted as code\n",
        "```\n",
        "\n",
        "**Reading the Dataset** \n",
        "\n"
      ],
      "metadata": {
        "id": "EzmQ_IN7vEEB"
      }
    },
    {
      "cell_type": "code",
      "source": [
        "data = pd.read_csv(\"https://raw.githubusercontent.com/mwitiderrick/stockprice/master/NSE-TATAGLOBAL.csv\")\n",
        "data.head()"
      ],
      "metadata": {
        "colab": {
          "base_uri": "https://localhost:8080/",
          "height": 206
        },
        "id": "DTp1TAPyd8Rd",
        "outputId": "aa0b74dd-b879-445a-f3ba-b036fe6d254a"
      },
      "execution_count": 3,
      "outputs": [
        {
          "output_type": "execute_result",
          "data": {
            "text/plain": [
              "         Date    Open    High     Low    Last   Close  Total Trade Quantity  \\\n",
              "0  2018-09-28  234.05  235.95  230.20  233.50  233.75               3069914   \n",
              "1  2018-09-27  234.55  236.80  231.10  233.80  233.25               5082859   \n",
              "2  2018-09-26  240.00  240.00  232.50  235.00  234.25               2240909   \n",
              "3  2018-09-25  233.30  236.75  232.00  236.25  236.10               2349368   \n",
              "4  2018-09-24  233.55  239.20  230.75  234.00  233.30               3423509   \n",
              "\n",
              "   Turnover (Lacs)  \n",
              "0          7162.35  \n",
              "1         11859.95  \n",
              "2          5248.60  \n",
              "3          5503.90  \n",
              "4          7999.55  "
            ],
            "text/html": [
              "\n",
              "  <div id=\"df-a8f00b19-4629-4f94-a83b-7ae4f5f38006\">\n",
              "    <div class=\"colab-df-container\">\n",
              "      <div>\n",
              "<style scoped>\n",
              "    .dataframe tbody tr th:only-of-type {\n",
              "        vertical-align: middle;\n",
              "    }\n",
              "\n",
              "    .dataframe tbody tr th {\n",
              "        vertical-align: top;\n",
              "    }\n",
              "\n",
              "    .dataframe thead th {\n",
              "        text-align: right;\n",
              "    }\n",
              "</style>\n",
              "<table border=\"1\" class=\"dataframe\">\n",
              "  <thead>\n",
              "    <tr style=\"text-align: right;\">\n",
              "      <th></th>\n",
              "      <th>Date</th>\n",
              "      <th>Open</th>\n",
              "      <th>High</th>\n",
              "      <th>Low</th>\n",
              "      <th>Last</th>\n",
              "      <th>Close</th>\n",
              "      <th>Total Trade Quantity</th>\n",
              "      <th>Turnover (Lacs)</th>\n",
              "    </tr>\n",
              "  </thead>\n",
              "  <tbody>\n",
              "    <tr>\n",
              "      <th>0</th>\n",
              "      <td>2018-09-28</td>\n",
              "      <td>234.05</td>\n",
              "      <td>235.95</td>\n",
              "      <td>230.20</td>\n",
              "      <td>233.50</td>\n",
              "      <td>233.75</td>\n",
              "      <td>3069914</td>\n",
              "      <td>7162.35</td>\n",
              "    </tr>\n",
              "    <tr>\n",
              "      <th>1</th>\n",
              "      <td>2018-09-27</td>\n",
              "      <td>234.55</td>\n",
              "      <td>236.80</td>\n",
              "      <td>231.10</td>\n",
              "      <td>233.80</td>\n",
              "      <td>233.25</td>\n",
              "      <td>5082859</td>\n",
              "      <td>11859.95</td>\n",
              "    </tr>\n",
              "    <tr>\n",
              "      <th>2</th>\n",
              "      <td>2018-09-26</td>\n",
              "      <td>240.00</td>\n",
              "      <td>240.00</td>\n",
              "      <td>232.50</td>\n",
              "      <td>235.00</td>\n",
              "      <td>234.25</td>\n",
              "      <td>2240909</td>\n",
              "      <td>5248.60</td>\n",
              "    </tr>\n",
              "    <tr>\n",
              "      <th>3</th>\n",
              "      <td>2018-09-25</td>\n",
              "      <td>233.30</td>\n",
              "      <td>236.75</td>\n",
              "      <td>232.00</td>\n",
              "      <td>236.25</td>\n",
              "      <td>236.10</td>\n",
              "      <td>2349368</td>\n",
              "      <td>5503.90</td>\n",
              "    </tr>\n",
              "    <tr>\n",
              "      <th>4</th>\n",
              "      <td>2018-09-24</td>\n",
              "      <td>233.55</td>\n",
              "      <td>239.20</td>\n",
              "      <td>230.75</td>\n",
              "      <td>234.00</td>\n",
              "      <td>233.30</td>\n",
              "      <td>3423509</td>\n",
              "      <td>7999.55</td>\n",
              "    </tr>\n",
              "  </tbody>\n",
              "</table>\n",
              "</div>\n",
              "      <button class=\"colab-df-convert\" onclick=\"convertToInteractive('df-a8f00b19-4629-4f94-a83b-7ae4f5f38006')\"\n",
              "              title=\"Convert this dataframe to an interactive table.\"\n",
              "              style=\"display:none;\">\n",
              "        \n",
              "  <svg xmlns=\"http://www.w3.org/2000/svg\" height=\"24px\"viewBox=\"0 0 24 24\"\n",
              "       width=\"24px\">\n",
              "    <path d=\"M0 0h24v24H0V0z\" fill=\"none\"/>\n",
              "    <path d=\"M18.56 5.44l.94 2.06.94-2.06 2.06-.94-2.06-.94-.94-2.06-.94 2.06-2.06.94zm-11 1L8.5 8.5l.94-2.06 2.06-.94-2.06-.94L8.5 2.5l-.94 2.06-2.06.94zm10 10l.94 2.06.94-2.06 2.06-.94-2.06-.94-.94-2.06-.94 2.06-2.06.94z\"/><path d=\"M17.41 7.96l-1.37-1.37c-.4-.4-.92-.59-1.43-.59-.52 0-1.04.2-1.43.59L10.3 9.45l-7.72 7.72c-.78.78-.78 2.05 0 2.83L4 21.41c.39.39.9.59 1.41.59.51 0 1.02-.2 1.41-.59l7.78-7.78 2.81-2.81c.8-.78.8-2.07 0-2.86zM5.41 20L4 18.59l7.72-7.72 1.47 1.35L5.41 20z\"/>\n",
              "  </svg>\n",
              "      </button>\n",
              "      \n",
              "  <style>\n",
              "    .colab-df-container {\n",
              "      display:flex;\n",
              "      flex-wrap:wrap;\n",
              "      gap: 12px;\n",
              "    }\n",
              "\n",
              "    .colab-df-convert {\n",
              "      background-color: #E8F0FE;\n",
              "      border: none;\n",
              "      border-radius: 50%;\n",
              "      cursor: pointer;\n",
              "      display: none;\n",
              "      fill: #1967D2;\n",
              "      height: 32px;\n",
              "      padding: 0 0 0 0;\n",
              "      width: 32px;\n",
              "    }\n",
              "\n",
              "    .colab-df-convert:hover {\n",
              "      background-color: #E2EBFA;\n",
              "      box-shadow: 0px 1px 2px rgba(60, 64, 67, 0.3), 0px 1px 3px 1px rgba(60, 64, 67, 0.15);\n",
              "      fill: #174EA6;\n",
              "    }\n",
              "\n",
              "    [theme=dark] .colab-df-convert {\n",
              "      background-color: #3B4455;\n",
              "      fill: #D2E3FC;\n",
              "    }\n",
              "\n",
              "    [theme=dark] .colab-df-convert:hover {\n",
              "      background-color: #434B5C;\n",
              "      box-shadow: 0px 1px 3px 1px rgba(0, 0, 0, 0.15);\n",
              "      filter: drop-shadow(0px 1px 2px rgba(0, 0, 0, 0.3));\n",
              "      fill: #FFFFFF;\n",
              "    }\n",
              "  </style>\n",
              "\n",
              "      <script>\n",
              "        const buttonEl =\n",
              "          document.querySelector('#df-a8f00b19-4629-4f94-a83b-7ae4f5f38006 button.colab-df-convert');\n",
              "        buttonEl.style.display =\n",
              "          google.colab.kernel.accessAllowed ? 'block' : 'none';\n",
              "\n",
              "        async function convertToInteractive(key) {\n",
              "          const element = document.querySelector('#df-a8f00b19-4629-4f94-a83b-7ae4f5f38006');\n",
              "          const dataTable =\n",
              "            await google.colab.kernel.invokeFunction('convertToInteractive',\n",
              "                                                     [key], {});\n",
              "          if (!dataTable) return;\n",
              "\n",
              "          const docLinkHtml = 'Like what you see? Visit the ' +\n",
              "            '<a target=\"_blank\" href=https://colab.research.google.com/notebooks/data_table.ipynb>data table notebook</a>'\n",
              "            + ' to learn more about interactive tables.';\n",
              "          element.innerHTML = '';\n",
              "          dataTable['output_type'] = 'display_data';\n",
              "          await google.colab.output.renderOutput(dataTable, element);\n",
              "          const docLink = document.createElement('div');\n",
              "          docLink.innerHTML = docLinkHtml;\n",
              "          element.appendChild(docLink);\n",
              "        }\n",
              "      </script>\n",
              "    </div>\n",
              "  </div>\n",
              "  "
            ]
          },
          "metadata": {},
          "execution_count": 3
        }
      ]
    },
    {
      "cell_type": "markdown",
      "source": [
        "**Data Sorting**"
      ],
      "metadata": {
        "id": "5TlNr2iagB24"
      }
    },
    {
      "cell_type": "code",
      "source": [
        "data['Date']=pd.to_datetime(data['Date'])\n",
        "print(type(data.Date[0]))"
      ],
      "metadata": {
        "colab": {
          "base_uri": "https://localhost:8080/"
        },
        "id": "LH8Bk_0TgDdF",
        "outputId": "22b25fad-e355-47d4-acf9-16ebccde84c3"
      },
      "execution_count": 4,
      "outputs": [
        {
          "output_type": "stream",
          "name": "stdout",
          "text": [
            "<class 'pandas._libs.tslibs.timestamps.Timestamp'>\n"
          ]
        }
      ]
    },
    {
      "cell_type": "code",
      "source": [
        "df=data.sort_values(by='Date')\n",
        "df.head()"
      ],
      "metadata": {
        "colab": {
          "base_uri": "https://localhost:8080/",
          "height": 206
        },
        "id": "DwtFQGO5gNpj",
        "outputId": "10203273-ab1e-4cbd-a7c3-1448d9752bc5"
      },
      "execution_count": 5,
      "outputs": [
        {
          "output_type": "execute_result",
          "data": {
            "text/plain": [
              "           Date   Open    High     Low    Last   Close  Total Trade Quantity  \\\n",
              "2034 2010-07-21  122.1  123.00  121.05  121.10  121.55                658666   \n",
              "2033 2010-07-22  120.3  122.00  120.25  120.75  120.90                293312   \n",
              "2032 2010-07-23  121.8  121.95  120.25  120.35  120.65                281312   \n",
              "2031 2010-07-26  120.1  121.00  117.10  117.10  117.60                658440   \n",
              "2030 2010-07-27  117.6  119.50  112.00  118.80  118.65                586100   \n",
              "\n",
              "      Turnover (Lacs)  \n",
              "2034           803.56  \n",
              "2033           355.17  \n",
              "2032           340.31  \n",
              "2031           780.01  \n",
              "2030           694.98  "
            ],
            "text/html": [
              "\n",
              "  <div id=\"df-a6a7d9d9-5003-4ac7-8eef-13625d17472f\">\n",
              "    <div class=\"colab-df-container\">\n",
              "      <div>\n",
              "<style scoped>\n",
              "    .dataframe tbody tr th:only-of-type {\n",
              "        vertical-align: middle;\n",
              "    }\n",
              "\n",
              "    .dataframe tbody tr th {\n",
              "        vertical-align: top;\n",
              "    }\n",
              "\n",
              "    .dataframe thead th {\n",
              "        text-align: right;\n",
              "    }\n",
              "</style>\n",
              "<table border=\"1\" class=\"dataframe\">\n",
              "  <thead>\n",
              "    <tr style=\"text-align: right;\">\n",
              "      <th></th>\n",
              "      <th>Date</th>\n",
              "      <th>Open</th>\n",
              "      <th>High</th>\n",
              "      <th>Low</th>\n",
              "      <th>Last</th>\n",
              "      <th>Close</th>\n",
              "      <th>Total Trade Quantity</th>\n",
              "      <th>Turnover (Lacs)</th>\n",
              "    </tr>\n",
              "  </thead>\n",
              "  <tbody>\n",
              "    <tr>\n",
              "      <th>2034</th>\n",
              "      <td>2010-07-21</td>\n",
              "      <td>122.1</td>\n",
              "      <td>123.00</td>\n",
              "      <td>121.05</td>\n",
              "      <td>121.10</td>\n",
              "      <td>121.55</td>\n",
              "      <td>658666</td>\n",
              "      <td>803.56</td>\n",
              "    </tr>\n",
              "    <tr>\n",
              "      <th>2033</th>\n",
              "      <td>2010-07-22</td>\n",
              "      <td>120.3</td>\n",
              "      <td>122.00</td>\n",
              "      <td>120.25</td>\n",
              "      <td>120.75</td>\n",
              "      <td>120.90</td>\n",
              "      <td>293312</td>\n",
              "      <td>355.17</td>\n",
              "    </tr>\n",
              "    <tr>\n",
              "      <th>2032</th>\n",
              "      <td>2010-07-23</td>\n",
              "      <td>121.8</td>\n",
              "      <td>121.95</td>\n",
              "      <td>120.25</td>\n",
              "      <td>120.35</td>\n",
              "      <td>120.65</td>\n",
              "      <td>281312</td>\n",
              "      <td>340.31</td>\n",
              "    </tr>\n",
              "    <tr>\n",
              "      <th>2031</th>\n",
              "      <td>2010-07-26</td>\n",
              "      <td>120.1</td>\n",
              "      <td>121.00</td>\n",
              "      <td>117.10</td>\n",
              "      <td>117.10</td>\n",
              "      <td>117.60</td>\n",
              "      <td>658440</td>\n",
              "      <td>780.01</td>\n",
              "    </tr>\n",
              "    <tr>\n",
              "      <th>2030</th>\n",
              "      <td>2010-07-27</td>\n",
              "      <td>117.6</td>\n",
              "      <td>119.50</td>\n",
              "      <td>112.00</td>\n",
              "      <td>118.80</td>\n",
              "      <td>118.65</td>\n",
              "      <td>586100</td>\n",
              "      <td>694.98</td>\n",
              "    </tr>\n",
              "  </tbody>\n",
              "</table>\n",
              "</div>\n",
              "      <button class=\"colab-df-convert\" onclick=\"convertToInteractive('df-a6a7d9d9-5003-4ac7-8eef-13625d17472f')\"\n",
              "              title=\"Convert this dataframe to an interactive table.\"\n",
              "              style=\"display:none;\">\n",
              "        \n",
              "  <svg xmlns=\"http://www.w3.org/2000/svg\" height=\"24px\"viewBox=\"0 0 24 24\"\n",
              "       width=\"24px\">\n",
              "    <path d=\"M0 0h24v24H0V0z\" fill=\"none\"/>\n",
              "    <path d=\"M18.56 5.44l.94 2.06.94-2.06 2.06-.94-2.06-.94-.94-2.06-.94 2.06-2.06.94zm-11 1L8.5 8.5l.94-2.06 2.06-.94-2.06-.94L8.5 2.5l-.94 2.06-2.06.94zm10 10l.94 2.06.94-2.06 2.06-.94-2.06-.94-.94-2.06-.94 2.06-2.06.94z\"/><path d=\"M17.41 7.96l-1.37-1.37c-.4-.4-.92-.59-1.43-.59-.52 0-1.04.2-1.43.59L10.3 9.45l-7.72 7.72c-.78.78-.78 2.05 0 2.83L4 21.41c.39.39.9.59 1.41.59.51 0 1.02-.2 1.41-.59l7.78-7.78 2.81-2.81c.8-.78.8-2.07 0-2.86zM5.41 20L4 18.59l7.72-7.72 1.47 1.35L5.41 20z\"/>\n",
              "  </svg>\n",
              "      </button>\n",
              "      \n",
              "  <style>\n",
              "    .colab-df-container {\n",
              "      display:flex;\n",
              "      flex-wrap:wrap;\n",
              "      gap: 12px;\n",
              "    }\n",
              "\n",
              "    .colab-df-convert {\n",
              "      background-color: #E8F0FE;\n",
              "      border: none;\n",
              "      border-radius: 50%;\n",
              "      cursor: pointer;\n",
              "      display: none;\n",
              "      fill: #1967D2;\n",
              "      height: 32px;\n",
              "      padding: 0 0 0 0;\n",
              "      width: 32px;\n",
              "    }\n",
              "\n",
              "    .colab-df-convert:hover {\n",
              "      background-color: #E2EBFA;\n",
              "      box-shadow: 0px 1px 2px rgba(60, 64, 67, 0.3), 0px 1px 3px 1px rgba(60, 64, 67, 0.15);\n",
              "      fill: #174EA6;\n",
              "    }\n",
              "\n",
              "    [theme=dark] .colab-df-convert {\n",
              "      background-color: #3B4455;\n",
              "      fill: #D2E3FC;\n",
              "    }\n",
              "\n",
              "    [theme=dark] .colab-df-convert:hover {\n",
              "      background-color: #434B5C;\n",
              "      box-shadow: 0px 1px 3px 1px rgba(0, 0, 0, 0.15);\n",
              "      filter: drop-shadow(0px 1px 2px rgba(0, 0, 0, 0.3));\n",
              "      fill: #FFFFFF;\n",
              "    }\n",
              "  </style>\n",
              "\n",
              "      <script>\n",
              "        const buttonEl =\n",
              "          document.querySelector('#df-a6a7d9d9-5003-4ac7-8eef-13625d17472f button.colab-df-convert');\n",
              "        buttonEl.style.display =\n",
              "          google.colab.kernel.accessAllowed ? 'block' : 'none';\n",
              "\n",
              "        async function convertToInteractive(key) {\n",
              "          const element = document.querySelector('#df-a6a7d9d9-5003-4ac7-8eef-13625d17472f');\n",
              "          const dataTable =\n",
              "            await google.colab.kernel.invokeFunction('convertToInteractive',\n",
              "                                                     [key], {});\n",
              "          if (!dataTable) return;\n",
              "\n",
              "          const docLinkHtml = 'Like what you see? Visit the ' +\n",
              "            '<a target=\"_blank\" href=https://colab.research.google.com/notebooks/data_table.ipynb>data table notebook</a>'\n",
              "            + ' to learn more about interactive tables.';\n",
              "          element.innerHTML = '';\n",
              "          dataTable['output_type'] = 'display_data';\n",
              "          await google.colab.output.renderOutput(dataTable, element);\n",
              "          const docLink = document.createElement('div');\n",
              "          docLink.innerHTML = docLinkHtml;\n",
              "          element.appendChild(docLink);\n",
              "        }\n",
              "      </script>\n",
              "    </div>\n",
              "  </div>\n",
              "  "
            ]
          },
          "metadata": {},
          "execution_count": 5
        }
      ]
    },
    {
      "cell_type": "markdown",
      "source": [
        "Visualization\n"
      ],
      "metadata": {
        "id": "ag4SiqeKgpSx"
      }
    },
    {
      "cell_type": "code",
      "source": [
        "plt.plot(df['Close'])"
      ],
      "metadata": {
        "colab": {
          "base_uri": "https://localhost:8080/",
          "height": 282
        },
        "id": "4qfp8HB-gqwT",
        "outputId": "e5007b47-2ecc-47ca-c508-28726462d60f"
      },
      "execution_count": null,
      "outputs": [
        {
          "output_type": "execute_result",
          "data": {
            "text/plain": [
              "[<matplotlib.lines.Line2D at 0x7f16ede026d0>]"
            ]
          },
          "metadata": {},
          "execution_count": 9
        },
        {
          "output_type": "display_data",
          "data": {
            "text/plain": [
              "<Figure size 432x288 with 1 Axes>"
            ],
            "image/png": "[encoded data removed]"
          },
          "metadata": {
            "needs_background": "light"
          }
        }
      ]
    },
    {
      "cell_type": "code",
      "source": [
        "dff=df['Close']\n",
        "dff"
      ],
      "metadata": {
        "colab": {
          "base_uri": "https://localhost:8080/"
        },
        "id": "CnkGumJTg0zT",
        "outputId": "ac6d0adc-459d-4bc8-f7c1-ed75e6172c96"
      },
      "execution_count": null,
      "outputs": [
        {
          "output_type": "execute_result",
          "data": {
            "text/plain": [
              "2034    121.55\n",
              "2033    120.90\n",
              "2032    120.65\n",
              "2031    117.60\n",
              "2030    118.65\n",
              "         ...  \n",
              "4       233.30\n",
              "3       236.10\n",
              "2       234.25\n",
              "1       233.25\n",
              "0       233.75\n",
              "Name: Close, Length: 2035, dtype: float64"
            ]
          },
          "metadata": {},
          "execution_count": 10
        }
      ]
    },
    {
      "cell_type": "markdown",
      "source": [
        "Min Max Scaler"
      ],
      "metadata": {
        "id": "nTIE3VJmhQ-n"
      }
    },
    {
      "cell_type": "code",
      "source": [
        "scaler=MinMaxScaler(feature_range=(0,1))\n",
        "dff=scaler.fit_transform(np.array(dff).reshape(-1,1))\n",
        "dff"
      ],
      "metadata": {
        "colab": {
          "base_uri": "https://localhost:8080/"
        },
        "id": "R4dwNa_shSwg",
        "outputId": "5d8575b1-7bd2-4a50-d685-e34682cd8370"
      },
      "execution_count": null,
      "outputs": [
        {
          "output_type": "execute_result",
          "data": {
            "text/plain": [
              "array([[0.16584967],\n",
              "       [0.16319444],\n",
              "       [0.1621732 ],\n",
              "       ...,\n",
              "       [0.62622549],\n",
              "       [0.62214052],\n",
              "       [0.62418301]])"
            ]
          },
          "metadata": {},
          "execution_count": 12
        }
      ]
    },
    {
      "cell_type": "markdown",
      "source": [
        "***Spliting The Dataset*** "
      ],
      "metadata": {
        "id": "QfOyeNlPhyon"
      }
    },
    {
      "cell_type": "code",
      "source": [
        "training_size=int(len(dff)*0.70)\n",
        "test_size=len(dff)-training_size\n",
        "train_data,test_data=dff[0:training_size,:],dff[training_size:len(dff),:1]"
      ],
      "metadata": {
        "id": "YrOsWQbCh93-"
      },
      "execution_count": null,
      "outputs": []
    },
    {
      "cell_type": "markdown",
      "source": [
        "**convert an array of values into a dataset Matrix**"
      ],
      "metadata": {
        "id": "BjBCpK6ziHFM"
      }
    },
    {
      "cell_type": "code",
      "source": [
        "def create_dataset(dataset, time_step=1):\n",
        "\tdataX, dataY = [], []\n",
        "\tfor i in range(len(dataset)-time_step-1):\n",
        "\t\ta = dataset[i:(i+time_step), 0]   \n",
        "\t\tdataX.append(a)\n",
        "\t\tdataY.append(dataset[i + time_step, 0])\n",
        "\treturn np.array(dataX), np.array(dataY)"
      ],
      "metadata": {
        "id": "WefeF-WMiX0H"
      },
      "execution_count": null,
      "outputs": []
    },
    {
      "cell_type": "markdown",
      "source": [
        "**Spliting Data into Train and Test**"
      ],
      "metadata": {
        "id": "TwJZhOXgi5EQ"
      }
    },
    {
      "cell_type": "code",
      "source": [
        "time_step = 100\n",
        "X_train, y_train = create_dataset(train_data, time_step)\n",
        "X_test, ytest = create_dataset(test_data, time_step)"
      ],
      "metadata": {
        "id": "M430Ga3hi7sj"
      },
      "execution_count": null,
      "outputs": []
    },
    {
      "cell_type": "code",
      "source": [
        "print(X_train.shape), print(y_train.shape)"
      ],
      "metadata": {
        "colab": {
          "base_uri": "https://localhost:8080/"
        },
        "id": "W0cXW6fkjCGy",
        "outputId": "bc353d68-b131-481a-ffe2-9995cc51316d"
      },
      "execution_count": null,
      "outputs": [
        {
          "output_type": "stream",
          "name": "stdout",
          "text": [
            "(1323, 100)\n",
            "(1323,)\n"
          ]
        },
        {
          "output_type": "execute_result",
          "data": {
            "text/plain": [
              "(None, None)"
            ]
          },
          "metadata": {},
          "execution_count": 17
        }
      ]
    },
    {
      "cell_type": "code",
      "source": [
        "X_train =X_train.reshape(X_train.shape[0],X_train.shape[1] , 1)\n",
        "X_test = X_test.reshape(X_test.shape[0],X_test.shape[1] , 1)"
      ],
      "metadata": {
        "id": "3FVymEJ-jHk8"
      },
      "execution_count": null,
      "outputs": []
    },
    {
      "cell_type": "markdown",
      "source": [
        "**Creating the LSTM Model**"
      ],
      "metadata": {
        "id": "CJr40-OqjLwj"
      }
    },
    {
      "cell_type": "code",
      "source": [
        "model=Sequential()\n",
        "model.add(LSTM(50,return_sequences=True,input_shape=(100,1)))\n",
        "model.add(LSTM(50,return_sequences=True))\n",
        "model.add(LSTM(50))\n",
        "model.add(Dense(1))\n",
        "model.compile(loss='mean_squared_error',optimizer='adam')\n",
        "model.summary()"
      ],
      "metadata": {
        "colab": {
          "base_uri": "https://localhost:8080/"
        },
        "id": "zFFZgxOYjP8a",
        "outputId": "451fc6f4-75d5-421e-ba23-1a63ba4b3cc9"
      },
      "execution_count": null,
      "outputs": [
        {
          "output_type": "stream",
          "name": "stdout",
          "text": [
            "Model: \"sequential\"\n",
            "_________________________________________________________________\n",
            " Layer (type)                Output Shape              Param #   \n",
            "=================================================================\n",
            " lstm (LSTM)                 (None, 100, 50)           10400     \n",
            "                                                                 \n",
            " lstm_1 (LSTM)               (None, 100, 50)           20200     \n",
            "                                                                 \n",
            " lstm_2 (LSTM)               (None, 50)                20200     \n",
            "                                                                 \n",
            " dense (Dense)               (None, 1)                 51        \n",
            "                                                                 \n",
            "=================================================================\n",
            "Total params: 50,851\n",
            "Trainable params: 50,851\n",
            "Non-trainable params: 0\n",
            "_________________________________________________________________\n"
          ]
        }
      ]
    },
    {
      "cell_type": "code",
      "source": [
        "model.fit(X_train,y_train,validation_split=0.1,epochs=60,batch_size=64,verbose=1)"
      ],
      "metadata": {
        "colab": {
          "base_uri": "https://localhost:8080/"
        },
        "id": "zn-_MSx_jcyv",
        "outputId": "760daf64-9a2e-47aa-b810-de1c940fe252"
      },
      "execution_count": null,
      "outputs": [
        {
          "output_type": "stream",
          "name": "stdout",
          "text": [
            "Epoch 1/60\n",
            "19/19 [==============================] - 3s 161ms/step - loss: 2.2802e-04 - val_loss: 4.0260e-04\n",
            "Epoch 2/60\n",
            "19/19 [==============================] - 4s 239ms/step - loss: 2.2085e-04 - val_loss: 1.7591e-04\n",
            "Epoch 3/60\n",
            "19/19 [==============================] - 7s 356ms/step - loss: 2.0477e-04 - val_loss: 2.3985e-04\n",
            "Epoch 4/60\n",
            "19/19 [==============================] - 3s 170ms/step - loss: 2.1256e-04 - val_loss: 2.4199e-04\n",
            "Epoch 5/60\n",
            "19/19 [==============================] - 3s 162ms/step - loss: 2.1290e-04 - val_loss: 2.2445e-04\n",
            "Epoch 6/60\n",
            "19/19 [==============================] - 3s 163ms/step - loss: 1.9635e-04 - val_loss: 1.6978e-04\n",
            "Epoch 7/60\n",
            "19/19 [==============================] - 3s 157ms/step - loss: 1.8422e-04 - val_loss: 1.4979e-04\n",
            "Epoch 8/60\n",
            "19/19 [==============================] - 3s 161ms/step - loss: 1.7717e-04 - val_loss: 1.5494e-04\n",
            "Epoch 9/60\n",
            "19/19 [==============================] - 3s 162ms/step - loss: 1.8280e-04 - val_loss: 1.8609e-04\n",
            "Epoch 10/60\n",
            "19/19 [==============================] - 3s 159ms/step - loss: 1.9422e-04 - val_loss: 1.7625e-04\n",
            "Epoch 11/60\n",
            "19/19 [==============================] - 3s 164ms/step - loss: 1.8499e-04 - val_loss: 1.8398e-04\n",
            "Epoch 12/60\n",
            "19/19 [==============================] - 3s 161ms/step - loss: 1.7453e-04 - val_loss: 1.5289e-04\n",
            "Epoch 13/60\n",
            "19/19 [==============================] - 3s 160ms/step - loss: 1.7086e-04 - val_loss: 1.3786e-04\n",
            "Epoch 14/60\n",
            "19/19 [==============================] - 3s 159ms/step - loss: 2.0985e-04 - val_loss: 1.5121e-04\n",
            "Epoch 15/60\n",
            "19/19 [==============================] - 3s 163ms/step - loss: 1.9179e-04 - val_loss: 1.4197e-04\n",
            "Epoch 16/60\n",
            "19/19 [==============================] - 3s 163ms/step - loss: 1.7791e-04 - val_loss: 1.3956e-04\n",
            "Epoch 17/60\n",
            "19/19 [==============================] - 3s 159ms/step - loss: 1.6068e-04 - val_loss: 1.3777e-04\n",
            "Epoch 18/60\n",
            "19/19 [==============================] - 3s 160ms/step - loss: 1.6209e-04 - val_loss: 1.3795e-04\n",
            "Epoch 19/60\n",
            "19/19 [==============================] - 3s 157ms/step - loss: 1.5970e-04 - val_loss: 1.2942e-04\n",
            "Epoch 20/60\n",
            "19/19 [==============================] - 3s 165ms/step - loss: 1.5449e-04 - val_loss: 1.3796e-04\n",
            "Epoch 21/60\n",
            "19/19 [==============================] - 3s 159ms/step - loss: 1.5384e-04 - val_loss: 1.3300e-04\n",
            "Epoch 22/60\n",
            "19/19 [==============================] - 3s 158ms/step - loss: 1.5803e-04 - val_loss: 1.3646e-04\n",
            "Epoch 23/60\n",
            "19/19 [==============================] - 3s 162ms/step - loss: 1.5156e-04 - val_loss: 1.3064e-04\n",
            "Epoch 24/60\n",
            "19/19 [==============================] - 3s 157ms/step - loss: 1.5784e-04 - val_loss: 2.5215e-04\n",
            "Epoch 25/60\n",
            "19/19 [==============================] - 3s 179ms/step - loss: 2.1779e-04 - val_loss: 1.4665e-04\n",
            "Epoch 26/60\n",
            "19/19 [==============================] - 3s 161ms/step - loss: 1.8275e-04 - val_loss: 1.3862e-04\n",
            "Epoch 27/60\n",
            "19/19 [==============================] - 3s 156ms/step - loss: 1.6431e-04 - val_loss: 1.2638e-04\n",
            "Epoch 28/60\n",
            "19/19 [==============================] - 3s 159ms/step - loss: 1.4483e-04 - val_loss: 1.3216e-04\n",
            "Epoch 29/60\n",
            "19/19 [==============================] - 3s 158ms/step - loss: 1.6583e-04 - val_loss: 1.2214e-04\n",
            "Epoch 30/60\n",
            "19/19 [==============================] - 3s 160ms/step - loss: 1.4556e-04 - val_loss: 1.2435e-04\n",
            "Epoch 31/60\n",
            "19/19 [==============================] - 3s 164ms/step - loss: 1.4035e-04 - val_loss: 1.2138e-04\n",
            "Epoch 32/60\n",
            "19/19 [==============================] - 3s 162ms/step - loss: 1.3727e-04 - val_loss: 1.2006e-04\n",
            "Epoch 33/60\n",
            "19/19 [==============================] - 3s 163ms/step - loss: 1.4482e-04 - val_loss: 1.3314e-04\n",
            "Epoch 34/60\n",
            "19/19 [==============================] - 3s 159ms/step - loss: 1.3562e-04 - val_loss: 1.1894e-04\n",
            "Epoch 35/60\n",
            "19/19 [==============================] - 3s 183ms/step - loss: 1.3663e-04 - val_loss: 1.1812e-04\n",
            "Epoch 36/60\n",
            "19/19 [==============================] - 3s 173ms/step - loss: 1.4551e-04 - val_loss: 1.3230e-04\n",
            "Epoch 37/60\n",
            "19/19 [==============================] - 3s 172ms/step - loss: 1.4039e-04 - val_loss: 1.1935e-04\n",
            "Epoch 38/60\n",
            "19/19 [==============================] - 3s 177ms/step - loss: 1.4734e-04 - val_loss: 1.1829e-04\n",
            "Epoch 39/60\n",
            "19/19 [==============================] - 3s 156ms/step - loss: 1.3974e-04 - val_loss: 1.4668e-04\n",
            "Epoch 40/60\n",
            "19/19 [==============================] - 3s 156ms/step - loss: 1.5633e-04 - val_loss: 1.1784e-04\n",
            "Epoch 41/60\n",
            "19/19 [==============================] - 3s 160ms/step - loss: 1.6197e-04 - val_loss: 1.8404e-04\n",
            "Epoch 42/60\n",
            "19/19 [==============================] - 3s 159ms/step - loss: 1.6769e-04 - val_loss: 1.2794e-04\n",
            "Epoch 43/60\n",
            "19/19 [==============================] - 3s 158ms/step - loss: 1.3871e-04 - val_loss: 1.3430e-04\n",
            "Epoch 44/60\n",
            "19/19 [==============================] - 3s 155ms/step - loss: 1.6649e-04 - val_loss: 1.5941e-04\n",
            "Epoch 45/60\n",
            "19/19 [==============================] - 3s 160ms/step - loss: 1.5898e-04 - val_loss: 1.5335e-04\n",
            "Epoch 46/60\n",
            "19/19 [==============================] - 3s 171ms/step - loss: 1.4096e-04 - val_loss: 1.8182e-04\n",
            "Epoch 47/60\n",
            "19/19 [==============================] - 3s 165ms/step - loss: 1.4260e-04 - val_loss: 1.1802e-04\n",
            "Epoch 48/60\n",
            "19/19 [==============================] - 3s 157ms/step - loss: 1.2971e-04 - val_loss: 1.1737e-04\n",
            "Epoch 49/60\n",
            "19/19 [==============================] - 3s 160ms/step - loss: 1.3459e-04 - val_loss: 1.1580e-04\n",
            "Epoch 50/60\n",
            "19/19 [==============================] - 3s 161ms/step - loss: 1.4619e-04 - val_loss: 1.4050e-04\n",
            "Epoch 51/60\n",
            "19/19 [==============================] - 3s 161ms/step - loss: 1.4323e-04 - val_loss: 1.3502e-04\n",
            "Epoch 52/60\n",
            "19/19 [==============================] - 3s 156ms/step - loss: 1.6264e-04 - val_loss: 1.2310e-04\n",
            "Epoch 53/60\n",
            "19/19 [==============================] - 3s 158ms/step - loss: 1.2875e-04 - val_loss: 1.1915e-04\n",
            "Epoch 54/60\n",
            "19/19 [==============================] - 3s 165ms/step - loss: 1.3228e-04 - val_loss: 1.3163e-04\n",
            "Epoch 55/60\n",
            "19/19 [==============================] - 3s 160ms/step - loss: 1.6618e-04 - val_loss: 1.2611e-04\n",
            "Epoch 56/60\n",
            "19/19 [==============================] - 3s 161ms/step - loss: 1.5097e-04 - val_loss: 1.4552e-04\n",
            "Epoch 57/60\n",
            "19/19 [==============================] - 3s 164ms/step - loss: 1.5111e-04 - val_loss: 2.1311e-04\n",
            "Epoch 58/60\n",
            "19/19 [==============================] - 3s 164ms/step - loss: 1.7879e-04 - val_loss: 1.9788e-04\n",
            "Epoch 59/60\n",
            "19/19 [==============================] - 3s 166ms/step - loss: 1.7215e-04 - val_loss: 1.2106e-04\n",
            "Epoch 60/60\n",
            "19/19 [==============================] - 3s 160ms/step - loss: 1.3473e-04 - val_loss: 1.4856e-04\n"
          ]
        },
        {
          "output_type": "execute_result",
          "data": {
            "text/plain": [
              "<keras.callbacks.History at 0x7f16e919be50>"
            ]
          },
          "metadata": {},
          "execution_count": 28
        }
      ]
    },
    {
      "cell_type": "markdown",
      "source": [
        "**PREDICTION**"
      ],
      "metadata": {
        "id": "SAW-DPUykPiF"
      }
    },
    {
      "cell_type": "code",
      "source": [
        "test_predict=model.predict(X_test)"
      ],
      "metadata": {
        "id": "G6kBOYlWkV0W"
      },
      "execution_count": null,
      "outputs": []
    },
    {
      "cell_type": "code",
      "source": [
        "test_predicted=scaler.inverse_transform(test_predict)\n",
        "test_predicted"
      ],
      "metadata": {
        "colab": {
          "base_uri": "https://localhost:8080/"
        },
        "id": "doLAdRVBkaLh",
        "outputId": "93be9023-9709-4666-adfb-39b1aceb663e"
      },
      "execution_count": null,
      "outputs": [
        {
          "output_type": "execute_result",
          "data": {
            "text/plain": [
              "array([[0.25227123],\n",
              "       [0.25287515],\n",
              "       [0.24933243],\n",
              "       [0.2387487 ],\n",
              "       [0.23141326],\n",
              "       [0.22900225],\n",
              "       [0.23397166],\n",
              "       [0.24109575],\n",
              "       [0.24329703],\n",
              "       [0.24134557],\n",
              "       [0.23924486],\n",
              "       [0.24305679],\n",
              "       [0.24666212],\n",
              "       [0.25347692],\n",
              "       [0.26285645],\n",
              "       [0.25610477],\n",
              "       [0.24567936],\n",
              "       [0.24280393],\n",
              "       [0.24541916],\n",
              "       [0.26595056],\n",
              "       [0.2858184 ],\n",
              "       [0.29563457],\n",
              "       [0.29596534],\n",
              "       [0.28605556],\n",
              "       [0.28335455],\n",
              "       [0.28303796],\n",
              "       [0.28621235],\n",
              "       [0.29425892],\n",
              "       [0.29823825],\n",
              "       [0.29788458],\n",
              "       [0.2979872 ],\n",
              "       [0.2925769 ],\n",
              "       [0.27920592],\n",
              "       [0.256191  ],\n",
              "       [0.24107242],\n",
              "       [0.2366508 ],\n",
              "       [0.23818988],\n",
              "       [0.23620884],\n",
              "       [0.22700353],\n",
              "       [0.2111097 ],\n",
              "       [0.19906491],\n",
              "       [0.19326971],\n",
              "       [0.18561526],\n",
              "       [0.18267187],\n",
              "       [0.17541192],\n",
              "       [0.16519995],\n",
              "       [0.16160548],\n",
              "       [0.16034272],\n",
              "       [0.16156232],\n",
              "       [0.15845942],\n",
              "       [0.1548741 ],\n",
              "       [0.15286732],\n",
              "       [0.14969403],\n",
              "       [0.15006156],\n",
              "       [0.15537809],\n",
              "       [0.16295943],\n",
              "       [0.17113687],\n",
              "       [0.17468128],\n",
              "       [0.1736789 ],\n",
              "       [0.17316316],\n",
              "       [0.1736402 ],\n",
              "       [0.17346407],\n",
              "       [0.174667  ],\n",
              "       [0.17666063],\n",
              "       [0.17782678],\n",
              "       [0.17804733],\n",
              "       [0.17706223],\n",
              "       [0.17772204],\n",
              "       [0.17924875],\n",
              "       [0.18063001],\n",
              "       [0.17782459],\n",
              "       [0.1736419 ],\n",
              "       [0.1679584 ],\n",
              "       [0.16265403],\n",
              "       [0.15733886],\n",
              "       [0.15741852],\n",
              "       [0.15983196],\n",
              "       [0.16384062],\n",
              "       [0.16821276],\n",
              "       [0.17290135],\n",
              "       [0.1772525 ],\n",
              "       [0.17995647],\n",
              "       [0.18167323],\n",
              "       [0.18187317],\n",
              "       [0.18139437],\n",
              "       [0.18061818],\n",
              "       [0.183732  ],\n",
              "       [0.18572244],\n",
              "       [0.189689  ],\n",
              "       [0.1930514 ],\n",
              "       [0.19467933],\n",
              "       [0.19606479],\n",
              "       [0.19938612],\n",
              "       [0.1979728 ],\n",
              "       [0.19564293],\n",
              "       [0.19484766],\n",
              "       [0.19535962],\n",
              "       [0.19739999],\n",
              "       [0.20110919],\n",
              "       [0.20247754],\n",
              "       [0.20321625],\n",
              "       [0.21305837],\n",
              "       [0.2310634 ],\n",
              "       [0.24812932],\n",
              "       [0.2558382 ],\n",
              "       [0.26122954],\n",
              "       [0.2615015 ],\n",
              "       [0.25919357],\n",
              "       [0.25437224],\n",
              "       [0.24948531],\n",
              "       [0.24364182],\n",
              "       [0.24152306],\n",
              "       [0.24277884],\n",
              "       [0.2472196 ],\n",
              "       [0.2514587 ],\n",
              "       [0.25119978],\n",
              "       [0.24712415],\n",
              "       [0.24219684],\n",
              "       [0.23778978],\n",
              "       [0.24300167],\n",
              "       [0.24858528],\n",
              "       [0.25421715],\n",
              "       [0.2574894 ],\n",
              "       [0.25734183],\n",
              "       [0.25357932],\n",
              "       [0.24871379],\n",
              "       [0.2404444 ],\n",
              "       [0.23679535],\n",
              "       [0.23970573],\n",
              "       [0.25034398],\n",
              "       [0.26108882],\n",
              "       [0.26911297],\n",
              "       [0.2714557 ],\n",
              "       [0.26570627],\n",
              "       [0.27030432],\n",
              "       [0.27984864],\n",
              "       [0.28374743],\n",
              "       [0.28511158],\n",
              "       [0.28531662],\n",
              "       [0.28455693],\n",
              "       [0.2844375 ],\n",
              "       [0.287051  ],\n",
              "       [0.29142427],\n",
              "       [0.29542994],\n",
              "       [0.2936349 ],\n",
              "       [0.28975642],\n",
              "       [0.2906687 ],\n",
              "       [0.29176497],\n",
              "       [0.290076  ],\n",
              "       [0.28583258],\n",
              "       [0.2801978 ],\n",
              "       [0.27943987],\n",
              "       [0.28496298],\n",
              "       [0.2900634 ],\n",
              "       [0.29299337],\n",
              "       [0.29297578],\n",
              "       [0.29453978],\n",
              "       [0.2941334 ],\n",
              "       [0.29411042],\n",
              "       [0.30173174],\n",
              "       [0.3083819 ],\n",
              "       [0.30948675],\n",
              "       [0.30225316],\n",
              "       [0.294461  ],\n",
              "       [0.29292932],\n",
              "       [0.2971601 ],\n",
              "       [0.30108804],\n",
              "       [0.30044952],\n",
              "       [0.30045938],\n",
              "       [0.3010518 ],\n",
              "       [0.2990988 ],\n",
              "       [0.2881108 ],\n",
              "       [0.27988178],\n",
              "       [0.275067  ],\n",
              "       [0.26937836],\n",
              "       [0.26062423],\n",
              "       [0.25561142],\n",
              "       [0.26058847],\n",
              "       [0.26677388],\n",
              "       [0.2700647 ],\n",
              "       [0.2755808 ],\n",
              "       [0.2848303 ],\n",
              "       [0.2959098 ],\n",
              "       [0.30317906],\n",
              "       [0.30192354],\n",
              "       [0.30064875],\n",
              "       [0.29964584],\n",
              "       [0.29924053],\n",
              "       [0.29609475],\n",
              "       [0.29963687],\n",
              "       [0.30933502],\n",
              "       [0.3189943 ],\n",
              "       [0.3223278 ],\n",
              "       [0.31756175],\n",
              "       [0.31155688],\n",
              "       [0.30826226],\n",
              "       [0.3049172 ],\n",
              "       [0.29711992],\n",
              "       [0.28431892],\n",
              "       [0.27734065],\n",
              "       [0.27614015],\n",
              "       [0.28136775],\n",
              "       [0.28886566],\n",
              "       [0.29122314],\n",
              "       [0.2984088 ],\n",
              "       [0.30139735],\n",
              "       [0.30678633],\n",
              "       [0.32574672],\n",
              "       [0.3493563 ],\n",
              "       [0.37091276],\n",
              "       [0.38371715],\n",
              "       [0.3836279 ],\n",
              "       [0.38234293],\n",
              "       [0.3771457 ],\n",
              "       [0.37551692],\n",
              "       [0.37096316],\n",
              "       [0.36882147],\n",
              "       [0.36589286],\n",
              "       [0.36595434],\n",
              "       [0.36961478],\n",
              "       [0.36627758],\n",
              "       [0.36133093],\n",
              "       [0.3589555 ],\n",
              "       [0.35543355],\n",
              "       [0.34831068],\n",
              "       [0.34524968],\n",
              "       [0.34581286],\n",
              "       [0.35462865],\n",
              "       [0.3556813 ],\n",
              "       [0.34414086],\n",
              "       [0.3214518 ],\n",
              "       [0.3180831 ],\n",
              "       [0.3532566 ],\n",
              "       [0.42054737],\n",
              "       [0.46364617],\n",
              "       [0.47282726],\n",
              "       [0.4629165 ],\n",
              "       [0.4387378 ],\n",
              "       [0.43539244],\n",
              "       [0.44353914],\n",
              "       [0.45130745],\n",
              "       [0.44882047],\n",
              "       [0.45608047],\n",
              "       [0.46761996],\n",
              "       [0.47305667],\n",
              "       [0.46245235],\n",
              "       [0.45621267],\n",
              "       [0.4758804 ],\n",
              "       [0.49745992],\n",
              "       [0.5072862 ],\n",
              "       [0.50916964],\n",
              "       [0.51213175],\n",
              "       [0.5042702 ],\n",
              "       [0.5057155 ],\n",
              "       [0.50945705],\n",
              "       [0.5178639 ],\n",
              "       [0.5300772 ],\n",
              "       [0.53098327],\n",
              "       [0.5216005 ],\n",
              "       [0.489583  ],\n",
              "       [0.45735475],\n",
              "       [0.4639952 ],\n",
              "       [0.47505498],\n",
              "       [0.48881352],\n",
              "       [0.5005396 ],\n",
              "       [0.5041021 ],\n",
              "       [0.4968552 ],\n",
              "       [0.49766546],\n",
              "       [0.5031004 ],\n",
              "       [0.5043659 ],\n",
              "       [0.5029394 ],\n",
              "       [0.503747  ],\n",
              "       [0.5114824 ],\n",
              "       [0.5145651 ],\n",
              "       [0.51155996],\n",
              "       [0.50922954],\n",
              "       [0.5017842 ],\n",
              "       [0.49171403],\n",
              "       [0.48396283],\n",
              "       [0.49663556],\n",
              "       [0.50305325],\n",
              "       [0.5100475 ],\n",
              "       [0.53614205],\n",
              "       [0.5692348 ],\n",
              "       [0.5828453 ],\n",
              "       [0.5774522 ],\n",
              "       [0.5633086 ],\n",
              "       [0.55346435],\n",
              "       [0.5754822 ],\n",
              "       [0.5788332 ],\n",
              "       [0.56753725],\n",
              "       [0.59428906],\n",
              "       [0.61411285],\n",
              "       [0.609362  ],\n",
              "       [0.62330675],\n",
              "       [0.6480961 ],\n",
              "       [0.66157275],\n",
              "       [0.67690706],\n",
              "       [0.7178061 ],\n",
              "       [0.73669744],\n",
              "       [0.72955745],\n",
              "       [0.717779  ],\n",
              "       [0.72518563],\n",
              "       [0.7356555 ],\n",
              "       [0.76482344],\n",
              "       [0.7619596 ],\n",
              "       [0.7603498 ],\n",
              "       [0.7533212 ],\n",
              "       [0.7381448 ],\n",
              "       [0.7345544 ],\n",
              "       [0.7285207 ],\n",
              "       [0.748461  ],\n",
              "       [0.7756681 ],\n",
              "       [0.8054202 ],\n",
              "       [0.7826949 ],\n",
              "       [0.7419128 ],\n",
              "       [0.72974855],\n",
              "       [0.7518996 ],\n",
              "       [0.7834753 ],\n",
              "       [0.8159926 ],\n",
              "       [0.8196042 ],\n",
              "       [0.8011777 ],\n",
              "       [0.79468864],\n",
              "       [0.8100316 ],\n",
              "       [0.8233091 ],\n",
              "       [0.826748  ],\n",
              "       [0.846851  ],\n",
              "       [0.84930444],\n",
              "       [0.83532184],\n",
              "       [0.8268858 ],\n",
              "       [0.83332294],\n",
              "       [0.84416693],\n",
              "       [0.8587682 ],\n",
              "       [0.85561985],\n",
              "       [0.842226  ],\n",
              "       [0.8343356 ],\n",
              "       [0.8681938 ],\n",
              "       [0.88547236],\n",
              "       [0.85976636],\n",
              "       [0.8285709 ],\n",
              "       [0.8056838 ],\n",
              "       [0.8177351 ],\n",
              "       [0.8388109 ],\n",
              "       [0.83954185],\n",
              "       [0.81934625],\n",
              "       [0.8056817 ],\n",
              "       [0.8016641 ],\n",
              "       [0.8116171 ],\n",
              "       [0.78575414],\n",
              "       [0.75819916],\n",
              "       [0.72156596],\n",
              "       [0.7090691 ],\n",
              "       [0.70448685],\n",
              "       [0.74030477],\n",
              "       [0.76494634],\n",
              "       [0.75254   ],\n",
              "       [0.74591064],\n",
              "       [0.73990005],\n",
              "       [0.73204774],\n",
              "       [0.7227475 ],\n",
              "       [0.7033146 ],\n",
              "       [0.6840285 ],\n",
              "       [0.6920098 ],\n",
              "       [0.6971214 ],\n",
              "       [0.7161702 ],\n",
              "       [0.7325802 ],\n",
              "       [0.73526096],\n",
              "       [0.7282054 ],\n",
              "       [0.7201447 ],\n",
              "       [0.7210271 ],\n",
              "       [0.7232689 ],\n",
              "       [0.71217686],\n",
              "       [0.7153608 ],\n",
              "       [0.71205693],\n",
              "       [0.72664845],\n",
              "       [0.74385667],\n",
              "       [0.7473222 ],\n",
              "       [0.7423545 ],\n",
              "       [0.7192872 ],\n",
              "       [0.67730033],\n",
              "       [0.66620666],\n",
              "       [0.6852648 ],\n",
              "       [0.6932843 ],\n",
              "       [0.6848329 ],\n",
              "       [0.6840597 ],\n",
              "       [0.6907412 ],\n",
              "       [0.6818087 ],\n",
              "       [0.7153073 ],\n",
              "       [0.7387754 ],\n",
              "       [0.7240246 ],\n",
              "       [0.7083027 ],\n",
              "       [0.70674604],\n",
              "       [0.72786367],\n",
              "       [0.7387328 ],\n",
              "       [0.73091614],\n",
              "       [0.7204611 ],\n",
              "       [0.7224216 ],\n",
              "       [0.7398878 ],\n",
              "       [0.75372154],\n",
              "       [0.7607736 ],\n",
              "       [0.76295877],\n",
              "       [0.7607328 ],\n",
              "       [0.7516182 ],\n",
              "       [0.746378  ],\n",
              "       [0.7635903 ],\n",
              "       [0.78343385],\n",
              "       [0.7888841 ],\n",
              "       [0.79486895],\n",
              "       [0.78401524],\n",
              "       [0.7585348 ],\n",
              "       [0.75229627],\n",
              "       [0.7792348 ],\n",
              "       [0.7888382 ],\n",
              "       [0.7850677 ],\n",
              "       [0.7603436 ],\n",
              "       [0.75191414],\n",
              "       [0.68037385],\n",
              "       [0.6047702 ],\n",
              "       [0.59091365],\n",
              "       [0.6360837 ],\n",
              "       [0.6663699 ],\n",
              "       [0.6566261 ],\n",
              "       [0.6381431 ],\n",
              "       [0.6344532 ],\n",
              "       [0.6496672 ],\n",
              "       [0.6696698 ],\n",
              "       [0.6825797 ],\n",
              "       [0.6740943 ],\n",
              "       [0.67906326],\n",
              "       [0.7008795 ],\n",
              "       [0.7006855 ],\n",
              "       [0.6700043 ],\n",
              "       [0.67107093],\n",
              "       [0.69553775],\n",
              "       [0.71556383],\n",
              "       [0.7158243 ],\n",
              "       [0.6969035 ],\n",
              "       [0.6930654 ],\n",
              "       [0.70595574],\n",
              "       [0.7366575 ],\n",
              "       [0.73710155],\n",
              "       [0.7275288 ],\n",
              "       [0.70111513],\n",
              "       [0.67314285],\n",
              "       [0.6627822 ],\n",
              "       [0.6808806 ],\n",
              "       [0.7048252 ],\n",
              "       [0.7174108 ],\n",
              "       [0.70729655],\n",
              "       [0.6879413 ],\n",
              "       [0.6929373 ],\n",
              "       [0.6950772 ],\n",
              "       [0.73390806],\n",
              "       [0.7516799 ],\n",
              "       [0.7265495 ],\n",
              "       [0.6881464 ],\n",
              "       [0.69972944],\n",
              "       [0.72861326],\n",
              "       [0.7297692 ],\n",
              "       [0.7033136 ],\n",
              "       [0.6694659 ],\n",
              "       [0.6220661 ],\n",
              "       [0.61856264],\n",
              "       [0.61923724],\n",
              "       [0.6061848 ],\n",
              "       [0.60798573],\n",
              "       [0.6259318 ],\n",
              "       [0.6428485 ],\n",
              "       [0.6208125 ],\n",
              "       [0.59863037],\n",
              "       [0.60194224],\n",
              "       [0.61640465],\n",
              "       [0.63671523],\n",
              "       [0.61831546],\n",
              "       [0.5926322 ],\n",
              "       [0.5828611 ],\n",
              "       [0.60104585],\n",
              "       [0.6162405 ],\n",
              "       [0.61449283],\n",
              "       [0.6070178 ],\n",
              "       [0.5935032 ],\n",
              "       [0.5890104 ],\n",
              "       [0.599981  ],\n",
              "       [0.61508274],\n",
              "       [0.6290156 ],\n",
              "       [0.63650316],\n",
              "       [0.62362844],\n",
              "       [0.5975097 ],\n",
              "       [0.57476133],\n",
              "       [0.5861413 ],\n",
              "       [0.59946287],\n",
              "       [0.6055423 ],\n",
              "       [0.60631394],\n",
              "       [0.59919274],\n",
              "       [0.59807456],\n",
              "       [0.5705523 ],\n",
              "       [0.54562235],\n",
              "       [0.53852344],\n",
              "       [0.55036336],\n",
              "       [0.5611239 ],\n",
              "       [0.54876167],\n",
              "       [0.54696596],\n",
              "       [0.5780555 ],\n",
              "       [0.6099508 ],\n",
              "       [0.61355567],\n",
              "       [0.59823114],\n",
              "       [0.58460855],\n",
              "       [0.5803809 ],\n",
              "       [0.59184986],\n",
              "       [0.6001376 ]], dtype=float32)"
            ]
          },
          "metadata": {},
          "execution_count": 22
        }
      ]
    },
    {
      "cell_type": "markdown",
      "source": [
        "**Calculating performance**"
      ],
      "metadata": {
        "id": "wQOpptR_kqfx"
      }
    },
    {
      "cell_type": "code",
      "source": [
        "performance = math.sqrt(mean_squared_error(ytest,test_predict))\n",
        "performance"
      ],
      "metadata": {
        "colab": {
          "base_uri": "https://localhost:8080/"
        },
        "id": "HSirCYZuksqp",
        "outputId": "316ef79c-c665-414a-e592-39cd38398249"
      },
      "execution_count": null,
      "outputs": [
        {
          "output_type": "execute_result",
          "data": {
            "text/plain": [
              "0.04792720343180673"
            ]
          },
          "metadata": {},
          "execution_count": 29
        }
      ]
    },
    {
      "cell_type": "code",
      "source": [
        ""
      ],
      "metadata": {
        "id": "MohGcZh_ksxV"
      },
      "execution_count": null,
      "outputs": []
    }
  ]
}